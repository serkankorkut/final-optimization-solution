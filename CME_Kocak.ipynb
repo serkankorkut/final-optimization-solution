{
 "cells": [
  {
   "cell_type": "markdown",
   "metadata": {},
   "source": [
    "# Computational Methods in Economics (WiSe 2018/19)\n",
    "\n",
    "## Exam Question"
   ]
  },
  {
   "cell_type": "code",
   "execution_count": 13,
   "metadata": {},
   "outputs": [],
   "source": [
    "import numpy as np\n",
    "import scipy.optimize\n",
    "\n",
    "import matplotlib.pyplot as plt\n",
    "%matplotlib inline\n",
    "import seaborn"
   ]
  },
  {
   "cell_type": "code",
   "execution_count": 14,
   "metadata": {},
   "outputs": [],
   "source": [
    "## utility\n",
    "beta = 0.9      # discount factor\n",
    "nu = 2          # risk-aversion coefficient for consumption\n",
    "eta = 1         # elasticity parameter for labor supply\n",
    "B = 1\n",
    "\n",
    "## production\n",
    "alpha = 0.25\n",
    "gamma = 0.05\n",
    "A = 1\n",
    "\n",
    "rho = 0.1       # marginal cost of clean energy\n",
    "phi = 0.5       # share of pollutant that remains in the air between two periods\n",
    "\n",
    "## initial values\n",
    "s0 = 0.05\n",
    "\n",
    "pm = {'beta': beta, 'nu': nu, 'eta': eta, 'alpha': alpha, 'gamma': gamma,\n",
    "          'phi': phi, 'rho': rho, 'A': A, 'B': B }\n"
   ]
  },
  {
   "cell_type": "code",
   "execution_count": 15,
   "metadata": {},
   "outputs": [],
   "source": [
    "def f(x,pm):\n",
    "\n",
    "    return np.exp(-x[0]) * pm['A'] * (x[0]-pm['phi']*x[0])**pm['alpha'] * x[1]**pm['gamma'] * x[2]**(1- pm['alpha']-pm['gamma'])\n",
    "\n",
    "\n",
    "def f_diff(x,pm):\n",
    " \n",
    "    return (pm['alpha']*f(x,pm)/(x[0]-pm['phi']*x[0]), \n",
    "            pm['gamma']*f(x,pm)/x[1],\n",
    "            (1- pm['alpha']-pm['gamma'])*f(x,pm)/x[2]\n",
    "            )\n",
    "\n",
    "def steady(x, pm):\n",
    "\n",
    "    y = np.zeros(3)\n",
    "    mp = f_diff(x, pm)\n",
    "    y[0] = (mp[0]) - pm['beta']* (mp[0])*((x[0]-pm['phi']*x[0])/pm['alpha']+pm['phi'])\n",
    "    y[1] = pm['beta'] * (f(x,pm) - pm['rho'] * x[1]) **(-pm['nu']) * (mp[1] - pm['rho'])\n",
    "    y[2] = pm['beta'] * (f(x,pm) - pm['rho'] * x[1]) **(-pm['nu']) * mp[2] - pm['beta']*pm['B']*x[2]**pm['eta']\n",
    "    return y"
   ]
  },
  {
   "cell_type": "code",
   "execution_count": 21,
   "metadata": {},
   "outputs": [
    {
     "name": "stdout",
     "output_type": "stream",
     "text": [
      "     fun: array([-2.23494445e-09, -2.48082344e-10, -6.17590423e-10])\n",
      " message: 'A solution was found at the specified tolerance.'\n",
      "     nit: 23\n",
      "  status: 1\n",
      " success: True\n",
      "       x: array([0.30555556, 0.25043399, 1.24441083])\n",
      "0.15277777853524027\n",
      "Steady state: (e_ss, r_ss, h_ss) = [0.30555556 0.25043399 1.24441083]\n"
     ]
    }
   ],
   "source": [
    "x0 = [0.5, 0.5, 0.5]\n",
    "res_ss = scipy.optimize.root(steady, x0, args = (pm), method = 'broyden1')\n",
    "\n",
    "print(res_ss)\n",
    "sss = res_ss.x[0]\n",
    "rss = res_ss.x[1]\n",
    "hss = res_ss.x[2]\n",
    "\n",
    "ess = (1-pm['phi']) * sss\n",
    "print(ess)\n",
    "print( \"Steady state: (e_ss, r_ss, h_ss) = {}\".format(res_ss.x ) )\n"
   ]
  },
  {
   "cell_type": "code",
   "execution_count": 18,
   "metadata": {},
   "outputs": [],
   "source": [
    "def chebnodes(m):\n",
    "\n",
    "    i = np.array(list(range(1, m+1)))\n",
    "    return -np.cos(0.5 * np.pi * (2 * i - 1) / m)\n",
    "\n",
    "def chebgrid(a, b, m):\n",
    "\n",
    "    z = chebnodes(m)\n",
    "    return (b - a) * 0.5 * (z + 1) + a \n",
    "def chebconvert(x, a, b):\n",
    "\n",
    "    return 2. * (x - a) / (b - a) - 1\n",
    "\n",
    "\n",
    "def chebmatrix(deg, m = None, x = None):\n",
    "\n",
    "\n",
    "    assert (m != None or np.sum(x) != None)\n",
    "\n",
    "    if x is None: \n",
    "        z = chebnodes(m)\n",
    "    elif isinstance(x, (list, tuple, np.ndarray)):  \n",
    "        z, m  = x, len(x) \n",
    "    else: \n",
    "        z, m = x, 1 \n",
    "\n",
    "    \n",
    "    T = np.ones((m, deg + 1))\n",
    "    T[:,1] = z\n",
    "    \n",
    "  \n",
    "    for col_idx in range(1, deg):\n",
    "        T[:,col_idx+1] = 2 * z * T[:,col_idx] - T[:,col_idx - 1]\n",
    "    return T\n",
    "\n",
    "def chebapprox(y, deg, v = None):\n",
    "\n",
    "    m = len(y)\n",
    "    T = chebmatrix(deg, m)\n",
    "    \n",
    "    if deg == m-1:\n",
    "        coef = np.linalg.solve(T,y)\n",
    "    else:\n",
    "        coef = np.ones(deg + 1)\n",
    "        for idx_deg in range(deg + 1):\n",
    "            coef[idx_deg] = sum(y * T[:,idx_deg]) / sum(T[:,idx_deg]**2)\n",
    "            \n",
    "    return coef "
   ]
  },
  {
   "cell_type": "code",
   "execution_count": 19,
   "metadata": {},
   "outputs": [],
   "source": [
    "m = 10\n",
    "s_min = 0.03\n",
    "s_max = 0.35\n",
    "s_grid = chebgrid(s_min, s_max, m)\n",
    "\n",
    "n = m - 1\n",
    "\n",
    "V0 = -(s_grid**2)\n",
    "\n",
    "a0 = chebapprox(V0, n)"
   ]
  },
  {
   "cell_type": "code",
   "execution_count": 14,
   "metadata": {},
   "outputs": [],
   "source": [
    "def u(c, h, pm):\n",
    "\n",
    "    return c**(1 - pm['nu'])/(1 - pm['nu']) - pm['B'] * h**(1 + pm['eta'])/(1 + pm['eta'])\n",
    "\n",
    "def f(s,sp,r,h,pm):\n",
    "\n",
    "    return np.exp(-s) * pm['A'] * (sp-pm['phi']*s)**pm['alpha'] * r**pm['gamma'] * h**(1- pm['alpha']-pm['gamma'])"
   ]
  },
  {
   "cell_type": "code",
   "execution_count": 15,
   "metadata": {},
   "outputs": [],
   "source": [
    "def vf_rhs(x, s, a, s_min, s_max, pm):\n",
    "\n",
    "    sp = np.exp(x[0])\n",
    "    r = np.exp(x[1])\n",
    "    h = np.exp(x[2])\n",
    "    \n",
    "    current_util = u(f(s,sp,r,h,pm) - pm['rho']*r, h, pm)\n",
    "    cont_value = np.polynomial.chebyshev.chebval(chebconvert(sp, s_min, s_max), a)\n",
    "    return - (current_util + pm['beta'] * cont_value )"
   ]
  },
  {
   "cell_type": "code",
   "execution_count": 16,
   "metadata": {},
   "outputs": [
    {
     "name": "stdout",
     "output_type": "stream",
     "text": [
      "Optimization terminated successfully.\n",
      "Optimization terminated successfully.\n",
      "Optimization terminated successfully.\n",
      "Optimization terminated successfully.\n",
      "Optimization terminated successfully.\n",
      "Optimization terminated successfully.\n",
      "Optimization terminated successfully.\n",
      "Optimization terminated successfully.\n",
      "Optimization terminated successfully.\n",
      "Optimization terminated successfully.\n"
     ]
    }
   ],
   "source": [
    "x0 = (0, 0, 0)\n",
    "V = np.zeros(m) \n",
    "for (ind, s) in enumerate(s_grid):\n",
    "\n",
    "    res = scipy.optimize.minimize(vf_rhs, x0, args = (s, a0, s_min, s_max, pm), method ='BFGS') \n",
    "    V[ind] = - res.fun\n",
    "    print(res.message)\n",
    "    \n",
    "def opt_step(s_grid, obj_fun, x0, a_ch, s_min, s_max, pm):     \n",
    "\n",
    "    V = np.zeros(m)\n",
    "    Sp = np.zeros(m)\n",
    "    R = np.zeros(m)\n",
    "    H = np.zeros(m)\n",
    "    \n",
    "\n",
    "    for (ind, s) in enumerate(s_grid):\n",
    "\n",
    "        res = scipy.optimize.minimize(obj_fun, x0, args = (s, a_ch, s_min, s_max,pm), method ='BFGS') \n",
    "        V[ind] = - res.fun\n",
    "        Sp[ind], R[ind], H[ind]= np.exp( res.x )\n",
    "\n",
    "    return V, Sp, R, H"
   ]
  },
  {
   "cell_type": "code",
   "execution_count": 17,
   "metadata": {},
   "outputs": [],
   "source": [
    "a = chebapprox(V, n)"
   ]
  },
  {
   "cell_type": "code",
   "execution_count": 18,
   "metadata": {},
   "outputs": [
    {
     "name": "stdout",
     "output_type": "stream",
     "text": [
      "100 8.581991802358868e-05\n"
     ]
    }
   ],
   "source": [
    "a_ch = a0.copy()\n",
    "x0 = (0, 0,0)\n",
    "\n",
    "eps = 1\n",
    "it = 0\n",
    "maxit = 100\n",
    "\n",
    "while eps > 1e-8 and it < maxit:\n",
    "    it += 1\n",
    "    ## optimization step\n",
    "    V, S, R, H = opt_step(s_grid, vf_rhs, x0, a_ch, s_min, s_max, pm)\n",
    "    ## fitting step\n",
    "    a_new = chebapprox(V, n)\n",
    "    ## compute convergence criterion\n",
    "    eps = np.linalg.norm(a_new - a_ch)\n",
    "    ## update coefficients\n",
    "    a_ch = a_new.copy()\n",
    "\n",
    "print(it, eps)"
   ]
  },
  {
   "cell_type": "code",
   "execution_count": 19,
   "metadata": {},
   "outputs": [],
   "source": [
    "a_ch = a0.copy()\n",
    "eps = 1\n",
    "it = 0\n",
    "maxit = 100"
   ]
  },
  {
   "cell_type": "code",
   "execution_count": 23,
   "metadata": {},
   "outputs": [
    {
     "ename": "ValueError",
     "evalue": "too many values to unpack (expected 3)",
     "output_type": "error",
     "traceback": [
      "\u001b[1;31m---------------------------------------------------------------------------\u001b[0m",
      "\u001b[1;31mValueError\u001b[0m                                Traceback (most recent call last)",
      "\u001b[1;32m<ipython-input-23-1b598aad27ee>\u001b[0m in \u001b[0;36m<module>\u001b[1;34m()\u001b[0m\n\u001b[0;32m      6\u001b[0m \u001b[1;32mwhile\u001b[0m \u001b[0meps\u001b[0m \u001b[1;33m>\u001b[0m \u001b[1;36m1e-8\u001b[0m \u001b[1;32mand\u001b[0m \u001b[0mit\u001b[0m \u001b[1;33m<\u001b[0m \u001b[0mmaxit\u001b[0m\u001b[1;33m:\u001b[0m\u001b[1;33m\u001b[0m\u001b[0m\n\u001b[0;32m      7\u001b[0m     \u001b[0mit\u001b[0m \u001b[1;33m+=\u001b[0m \u001b[1;36m1\u001b[0m\u001b[1;33m\u001b[0m\u001b[0m\n\u001b[1;32m----> 8\u001b[1;33m     \u001b[0mV\u001b[0m\u001b[1;33m,\u001b[0m \u001b[0mS\u001b[0m\u001b[1;33m,\u001b[0m \u001b[0mH\u001b[0m \u001b[1;33m=\u001b[0m \u001b[0mopt_step\u001b[0m\u001b[1;33m(\u001b[0m\u001b[0ms_grid\u001b[0m\u001b[1;33m,\u001b[0m \u001b[0mvf_rhs\u001b[0m\u001b[1;33m,\u001b[0m \u001b[0mx0\u001b[0m\u001b[1;33m,\u001b[0m \u001b[0ma_ch\u001b[0m\u001b[1;33m,\u001b[0m \u001b[0ms_min\u001b[0m\u001b[1;33m,\u001b[0m \u001b[0ms_max\u001b[0m\u001b[1;33m,\u001b[0m \u001b[0mpm\u001b[0m\u001b[1;33m)\u001b[0m\u001b[1;33m\u001b[0m\u001b[0m\n\u001b[0m\u001b[0;32m      9\u001b[0m     \u001b[0max\u001b[0m\u001b[1;33m.\u001b[0m\u001b[0mplot\u001b[0m\u001b[1;33m(\u001b[0m\u001b[0ms_grid\u001b[0m\u001b[1;33m,\u001b[0m \u001b[0mV\u001b[0m\u001b[1;33m)\u001b[0m\u001b[1;33m\u001b[0m\u001b[0m\n\u001b[0;32m     10\u001b[0m \u001b[1;33m\u001b[0m\u001b[0m\n",
      "\u001b[1;31mValueError\u001b[0m: too many values to unpack (expected 3)"
     ]
    },
    {
     "data": {
      "image/png": "[encoded data removed]",
      "text/plain": [
       "<Figure size 432x288 with 1 Axes>"
      ]
     },
     "metadata": {
      "needs_background": "light"
     },
     "output_type": "display_data"
    }
   ],
   "source": [
    "fig, ax = plt.subplots()\n",
    "ax.plot(s_grid, V0)\n",
    "ax.set_xlabel('s')\n",
    "ax.set_ylabel('V')\n",
    "\n",
    "while eps > 1e-8 and it < maxit:\n",
    "    it += 1\n",
    "    V, S, H = opt_step(s_grid, vf_rhs, x0, a_ch, s_min, s_max, pm)\n",
    "    ax.plot(s_grid, V)\n",
    "\n",
    "    a_new = chebapprox(V, n)\n",
    "\n",
    "    eps = np.linalg.norm(a_new - a_ch)\n",
    "\n",
    "    a_ch = a_new.copy()"
   ]
  },
  {
   "cell_type": "code",
   "execution_count": 21,
   "metadata": {},
   "outputs": [],
   "source": [
    "a_s = chebapprox(S, n)\n",
    "a_r = chebapprox(R, n)\n",
    "a_h = chebapprox(H, n)\n",
    "\n",
    "T = 30\n",
    "\n",
    "st = np.zeros(T+1)\n",
    "rt = np.zeros(T)\n",
    "ht = np.zeros(T)\n",
    "et = np.zeros(T)\n",
    "\n",
    "\n",
    "st[0] = s0\n",
    "\n",
    "for t in range(T):\n",
    "    st[t+1] = np.polynomial.chebyshev.chebval( \n",
    "                chebconvert(st[t], s_min, s_max), a_s )\n",
    "    rt[t] = np.polynomial.chebyshev.chebval( \n",
    "                chebconvert(st[t], s_min, s_max), a_r )\n",
    "    ht[t] = np.polynomial.chebyshev.chebval( \n",
    "                chebconvert(st[t], s_min, s_max), a_h )\n",
    "    et[t] = st[t+1] - pm['phi']*st[t]"
   ]
  },
  {
   "cell_type": "code",
   "execution_count": 22,
   "metadata": {},
   "outputs": [
    {
     "data": {
      "text/plain": [
       "<matplotlib.collections.LineCollection at 0xac68da0>"
      ]
     },
     "execution_count": 22,
     "metadata": {},
     "output_type": "execute_result"
    },
    {
     "data": {
      "image/png": "[encoded data removed]",
      "text/plain": [
       "<Figure size 432x288 with 3 Axes>"
      ]
     },
     "metadata": {
      "needs_background": "light"
     },
     "output_type": "display_data"
    }
   ],
   "source": [
    "fig, bx = plt.subplots(3,1)\n",
    "bx[0].plot(range(T), et)\n",
    "bx[0].hlines(ess, 0, T)\n",
    "bx[1].plot(range(T), rt)\n",
    "bx[1].hlines(rss, 0, T)\n",
    "bx[2].plot(range(T), ht)\n",
    "bx[2].hlines(hss, 0, T)"
   ]
  },
  {
   "cell_type": "code",
   "execution_count": null,
   "metadata": {},
   "outputs": [],
   "source": []
  }
 ],
 "metadata": {
  "kernelspec": {
   "display_name": "Python 3",
   "language": "python",
   "name": "python3"
  },
  "language_info": {
   "codemirror_mode": {
    "name": "ipython",
    "version": 3
   },
   "file_extension": ".py",
   "mimetype": "text/x-python",
   "name": "python",
   "nbconvert_exporter": "python",
   "pygments_lexer": "ipython3",
   "version": "3.7.0"
  }
 },
 "nbformat": 4,
 "nbformat_minor": 2
}
